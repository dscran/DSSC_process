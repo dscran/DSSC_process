{
 "cells": [
  {
   "cell_type": "markdown",
   "metadata": {},
   "source": [
    "# Example processing: Intra-train heating\n",
    "This uses a simplified version of the process_dssc_module function:\n",
    "\n",
    "* frames are not grouped (e.g., in 'pumped', 'unpumped' or 'dark' frames)\n",
    "* no selection of trains and/or pulses is done\n",
    "\n",
    "The purpose of this analysis is to check how robust the diffraction signal is with respect to the repeated heat and radiation load from high repetition-rate pump-probe runs. Thus, we average over all trains within the run, but keep all individual pulses."
   ]
  },
  {
   "cell_type": "code",
   "execution_count": 1,
   "metadata": {},
   "outputs": [
    {
     "data": {
      "text/plain": [
       "'0.7.0'"
      ]
     },
     "execution_count": 1,
     "metadata": {},
     "output_type": "execute_result"
    }
   ],
   "source": [
    "import karabo_data as kd\n",
    "import numpy as np\n",
    "import xarray as xr\n",
    "import matplotlib.pyplot as plt\n",
    "import multiprocessing\n",
    "from tqdm.auto import tqdm\n",
    "from time import strftime\n",
    "from matplotlib.colors import LogNorm, BoundaryNorm\n",
    "import os\n",
    "import dssc_process as dp\n",
    "\n",
    "kd.__version__"
   ]
  },
  {
   "cell_type": "code",
   "execution_count": 2,
   "metadata": {},
   "outputs": [],
   "source": [
    "%matplotlib widget"
   ]
  },
  {
   "cell_type": "code",
   "execution_count": 3,
   "metadata": {},
   "outputs": [],
   "source": [
    "# make sure subfolders exist\n",
    "for f in ['tmp', 'images', 'processed_runs']:\n",
    "    if not os.path.isdir(f):\n",
    "        os.mkdir(f)"
   ]
  },
  {
   "cell_type": "markdown",
   "metadata": {},
   "source": [
    "## setup run information and index non-DSSC data"
   ]
  },
  {
   "cell_type": "code",
   "execution_count": 4,
   "metadata": {},
   "outputs": [
    {
     "name": "stdout",
     "output_type": "stream",
     "text": [
      "CPU times: user 18.5 ms, sys: 17.8 ms, total: 36.3 ms\n",
      "Wall time: 142 ms\n"
     ]
    }
   ],
   "source": [
    "%%time\n",
    "\n",
    "# basic run information\n",
    "proposal = 2212\n",
    "run_nr = 89\n",
    "is_dark = False\n",
    "\n",
    "# index non-DSSC data\n",
    "run = kd.open_run(proposal, run_nr, include='*DA*')"
   ]
  },
  {
   "cell_type": "markdown",
   "metadata": {},
   "source": [
    "## load XGM (but no filtering/ thresholding)"
   ]
  },
  {
   "cell_type": "code",
   "execution_count": 5,
   "metadata": {},
   "outputs": [
    {
     "name": "stdout",
     "output_type": "stream",
     "text": [
      "SASE3 bunches per train: 75\n"
     ]
    }
   ],
   "source": [
    "if not is_dark:\n",
    "    xgm = dp.load_xgm(run, print_info=True)"
   ]
  },
  {
   "cell_type": "markdown",
   "metadata": {},
   "source": [
    "## plot XGM"
   ]
  },
  {
   "cell_type": "code",
   "execution_count": 6,
   "metadata": {},
   "outputs": [
    {
     "data": {
      "application/vnd.jupyter.widget-view+json": {
       "model_id": "4d19933d41b7487ab372269f5ce81e4f",
       "version_major": 2,
       "version_minor": 0
      },
      "text/plain": [
       "Canvas(toolbar=Toolbar(toolitems=[('Home', 'Reset original view', 'home', 'home'), ('Back', 'Back to previous …"
      ]
     },
     "metadata": {},
     "output_type": "display_data"
    }
   ],
   "source": [
    "if not is_dark:\n",
    "    fig, ax1 = plt.subplots(nrows=1, sharex=True)\n",
    "\n",
    "    # ax1.plot(scan.xgm.mean('dim_0'), label='pumped')\n",
    "    ax1.plot(xgm.trainId, xgm, 'o', c='C0', ms=1)\n",
    "    ax1.set_ylabel('xgm')\n",
    "    ax1.set_xlabel('trainId')\n",
    "\n",
    "    ax1.set_title(f'run: {run_nr}')\n",
    "\n",
    "    tstamp = strftime('%y%m%d_%H%M')\n",
    "    fig.savefig(f'images/run{run_nr}_xgm_{tstamp}.png', dpi=200)"
   ]
  },
  {
   "cell_type": "markdown",
   "metadata": {},
   "source": [
    "## calculate chunksize\n",
    "This is a conservative estimate for the maximum number of trains to process simultaneously without using more than \"max_GB\" gigabytes of memory."
   ]
  },
  {
   "cell_type": "code",
   "execution_count": 7,
   "metadata": {},
   "outputs": [
    {
     "name": "stdout",
     "output_type": "stream",
     "text": [
      "processing 512 trains per chunk\n"
     ]
    }
   ],
   "source": [
    "max_GB = 300\n",
    "fpt = dp.load_dssc_info(proposal, run_nr)['frames_per_train']\n",
    "\n",
    "# max_GB / (8byte * 16modules * 128px * 512px * N_pulses)\n",
    "chunksize = int(max_GB * 128 // fpt)\n",
    "chunksize = min(512, chunksize)  # more than 512 trains doesn't seem to give any performance benefit\n",
    "print('processing', chunksize, 'trains per chunk')"
   ]
  },
  {
   "cell_type": "markdown",
   "metadata": {},
   "source": [
    "## create joblist for multiprocessing"
   ]
  },
  {
   "cell_type": "code",
   "execution_count": 8,
   "metadata": {},
   "outputs": [],
   "source": [
    "jobs = []\n",
    "for m in range(16):\n",
    "    jobs.append(dict(\n",
    "        proposal=proposal,\n",
    "        run_nr=run_nr,\n",
    "        module=m,\n",
    "        chunksize=chunksize,\n",
    "        fpt=fpt,\n",
    "    ))"
   ]
  },
  {
   "cell_type": "markdown",
   "metadata": {},
   "source": [
    "## create multiprocessing pool and execute"
   ]
  },
  {
   "cell_type": "code",
   "execution_count": 9,
   "metadata": {},
   "outputs": [
    {
     "name": "stdout",
     "output_type": "stream",
     "text": [
      "start time: 09:34:39\n"
     ]
    },
    {
     "name": "stderr",
     "output_type": "stream",
     "text": [
      "100%|██████████| 4/4 [06:38<00:00, 98.55s/it] "
     ]
    },
    {
     "name": "stdout",
     "output_type": "stream",
     "text": [
      "finished: 09:41:19\n",
      "CPU times: user 935 ms, sys: 3.42 s, total: 4.35 s\n",
      "Wall time: 6min 41s\n"
     ]
    }
   ],
   "source": [
    "%%time\n",
    "\n",
    "timestamp = strftime('%X')\n",
    "print(f'start time: {timestamp}')\n",
    "\n",
    "with multiprocessing.Pool(16) as pool:\n",
    "    module_data = pool.map(dp.process_intra_train, jobs)\n",
    "    \n",
    "print('finished:', strftime('%X'))\n",
    "\n",
    "module_data = xr.concat(module_data, dim='module')\n",
    "module_data['run'] = run_nr\n",
    "module_data = module_data.transpose('pulse', 'module', 'x', 'y')"
   ]
  },
  {
   "cell_type": "markdown",
   "metadata": {},
   "source": [
    "## merge processed data with scan variable and normalization data"
   ]
  },
  {
   "cell_type": "code",
   "execution_count": 10,
   "metadata": {},
   "outputs": [],
   "source": [
    "if not is_dark:\n",
    "    xgm['pulse'] = np.arange(fpt, dtype=int)\n",
    "    xgm = xgm.mean('trainId')\n",
    "    xgm.name = 'xgm'\n",
    "    module_data = xr.merge([module_data, xgm])"
   ]
  },
  {
   "cell_type": "markdown",
   "metadata": {},
   "source": [
    "## save to hdf5"
   ]
  },
  {
   "cell_type": "code",
   "execution_count": 11,
   "metadata": {},
   "outputs": [
    {
     "name": "stdout",
     "output_type": "stream",
     "text": [
      "saving:  ./processed_runs/run89_by-pulse.h5\n"
     ]
    }
   ],
   "source": [
    "overwrite = False\n",
    "\n",
    "save_folder = './processed_runs/'\n",
    "prefix = ''\n",
    "\n",
    "if is_dark:\n",
    "    fname = f'{prefix}run{run_nr}.h5'  # no scan\n",
    "else:\n",
    "    fname = f'{prefix}run{run_nr}_by-pulse.h5'  # run with delay scan (change for other scan types!)\n",
    "\n",
    "\n",
    "save_path = os.path.join(save_folder, fname)\n",
    "file_exists = os.path.isfile(save_path)\n",
    "\n",
    "if (not file_exists) or (file_exists and overwrite):\n",
    "    if file_exists:\n",
    "        os.remove(save_path)\n",
    "    module_data.to_netcdf(save_path, group='data')\n",
    "    os.chmod(os.path.join(save_folder, fname), 664)\n",
    "    print('saving: ', save_path)\n",
    "else:\n",
    "    print('file', save_path, 'exists and overwrite is False')"
   ]
  }
 ],
 "metadata": {
  "kernelspec": {
   "display_name": "Python 3",
   "language": "python",
   "name": "python3"
  },
  "language_info": {
   "codemirror_mode": {
    "name": "ipython",
    "version": 3
   },
   "file_extension": ".py",
   "mimetype": "text/x-python",
   "name": "python",
   "nbconvert_exporter": "python",
   "pygments_lexer": "ipython3",
   "version": "3.6.7"
  },
  "toc-autonumbering": false
 },
 "nbformat": 4,
 "nbformat_minor": 4
}
